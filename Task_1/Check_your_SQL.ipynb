{
 "cells": [
  {
   "cell_type": "code",
   "execution_count": null,
   "metadata": {},
   "outputs": [],
   "source": [
    "import importlib\n",
    "import duckdb\n",
    "import subprocess\n",
    "import SQL as sql\n",
    "import Advanced_SQL as asql\n",
    "import os\n",
    "_ = importlib.reload(asql)\n",
    "_ = importlib.reload(sql)"
   ]
  },
  {
   "cell_type": "markdown",
   "metadata": {},
   "source": [
    "Use this cell to test any sql queries. This can be done in one of the following ways:\n",
    "1. Fill in the `qry` within the \"\"\" \"\"\".\n",
    "2. Call the question functions that you have already filled in from the SQL.py and Advanced_SQL.py files. An example of question_1 being called from the SQL.py file is currently commented out.\n",
    "\n",
    "\n",
    "This cell can be copied if you wish to run multiple queries."
   ]
  },
  {
   "cell_type": "code",
   "execution_count": null,
   "metadata": {},
   "outputs": [],
   "source": [
    "\n",
    "qry = sql.question_1()\n",
    "\n",
    "with duckdb.connect('database/loan.db') as cursor:\n",
    "    result_set = cursor.execute(qry).df()\n",
    "\n",
    "result_set"
   ]
  },
  {
   "cell_type": "code",
   "execution_count": null,
   "metadata": {},
   "outputs": [],
   "source": [
    "\n",
    "qry = sql.question_2()\n",
    "\n",
    "with duckdb.connect('database/loan.db') as cursor:\n",
    "    result_set = cursor.execute(qry).df()\n",
    "\n",
    "result_set"
   ]
  },
  {
   "cell_type": "code",
   "execution_count": null,
   "metadata": {},
   "outputs": [],
   "source": [
    "\n",
    "qry = sql.question_3()\n",
    "\n",
    "with duckdb.connect('database/loan.db') as cursor:\n",
    "    result_set = cursor.execute(qry).df()\n",
    "\n",
    "result_set"
   ]
  },
  {
   "cell_type": "code",
   "execution_count": null,
   "metadata": {},
   "outputs": [],
   "source": [
    "\n",
    "qry = sql.question_4()\n",
    "\n",
    "with duckdb.connect('database/loan.db') as cursor:\n",
    "    result_set = cursor.execute(qry).df()\n",
    "\n",
    "result_set"
   ]
  },
  {
   "cell_type": "code",
   "execution_count": null,
   "metadata": {},
   "outputs": [],
   "source": [
    "\n",
    "qry = sql.question_5()\n",
    "\n",
    "with duckdb.connect('database/loan.db') as cursor:\n",
    "    result_set = cursor.execute(qry).df()\n",
    "\n",
    "result_set"
   ]
  },
  {
   "cell_type": "markdown",
   "metadata": {},
   "source": [
    "Should you break/incorrectly update any database tables, the database can be reset by running the following cell"
   ]
  },
  {
   "cell_type": "code",
   "execution_count": null,
   "metadata": {},
   "outputs": [],
   "source": [
    "load_script_path = 'database/database_load.py'\n",
    "subprocess.run(['python3', load_script_path])"
   ]
  },
  {
   "cell_type": "markdown",
   "metadata": {},
   "source": [
    "## Advanced SQL"
   ]
  },
  {
   "cell_type": "code",
   "execution_count": null,
   "metadata": {
    "scrolled": true
   },
   "outputs": [],
   "source": [
    "qry = asql.question_1()\n",
    "\n",
    "\n",
    "with duckdb.connect('database/loan.db') as cursor:\n",
    "    result_set = cursor.execute(qry).df()\n",
    "\n",
    "result_set"
   ]
  },
  {
   "cell_type": "code",
   "execution_count": null,
   "metadata": {
    "scrolled": true
   },
   "outputs": [],
   "source": [
    "qry = asql.question_2()\n",
    "\n",
    "\n",
    "with duckdb.connect('database/loan.db') as cursor:\n",
    "    result_set = cursor.execute(qry).df()\n",
    "\n",
    "result_set"
   ]
  },
  {
   "cell_type": "code",
   "execution_count": null,
   "metadata": {
    "scrolled": true
   },
   "outputs": [],
   "source": [
    "qry = asql.question_3()\n",
    "\n",
    "\n",
    "with duckdb.connect('database/loan.db') as cursor:\n",
    "    result_set = cursor.execute(qry).df()\n",
    "\n",
    "result_set"
   ]
  },
  {
   "cell_type": "code",
   "execution_count": null,
   "metadata": {
    "scrolled": true
   },
   "outputs": [],
   "source": [
    "qry = asql.question_4()\n",
    "\n",
    "\n",
    "with duckdb.connect('database/loan.db') as cursor:\n",
    "    result_set = cursor.execute(qry).df()\n",
    "\n",
    "result_set"
   ]
  },
  {
   "cell_type": "code",
   "execution_count": null,
   "metadata": {
    "scrolled": true
   },
   "outputs": [],
   "source": [
    "qry = asql.question_5()\n",
    "\n",
    "\n",
    "with duckdb.connect('database/loan.db') as cursor:\n",
    "    result_set = cursor.execute(qry).df()\n",
    "\n",
    "result_set"
   ]
  },
  {
   "cell_type": "code",
   "execution_count": null,
   "metadata": {
    "scrolled": true
   },
   "outputs": [],
   "source": [
    "qry = asql.question_6()\n",
    "\n",
    "\n",
    "with duckdb.connect('database/loan.db') as cursor:\n",
    "    result_set = cursor.execute(qry).df()\n",
    "\n",
    "result_set"
   ]
  },
  {
   "cell_type": "code",
   "execution_count": null,
   "metadata": {
    "scrolled": true
   },
   "outputs": [],
   "source": [
    "qry = asql.question_7()\n",
    "\n",
    "\n",
    "with duckdb.connect('database/loan.db') as cursor:\n",
    "    result_set = cursor.execute(qry).df()\n",
    "\n",
    "result_set"
   ]
  },
  {
   "cell_type": "raw",
   "metadata": {},
   "source": []
  }
 ],
 "metadata": {
  "kernelspec": {
   "display_name": "Python 3 (ipykernel)",
   "language": "python",
   "name": "python3"
  },
  "language_info": {
   "codemirror_mode": {
    "name": "ipython",
    "version": 3
   },
   "file_extension": ".py",
   "mimetype": "text/x-python",
   "name": "python",
   "nbconvert_exporter": "python",
   "pygments_lexer": "ipython3",
   "version": "3.10.14"
  }
 },
 "nbformat": 4,
 "nbformat_minor": 4
}
